{
  "nbformat": 4,
  "nbformat_minor": 0,
  "metadata": {
    "colab": {
      "name": "HMM_yangsong.ipynb",
      "provenance": [],
      "collapsed_sections": []
    },
    "kernelspec": {
      "name": "python3",
      "display_name": "Python 3"
    },
    "language_info": {
      "name": "python"
    }
  },
  "cells": [
    {
      "cell_type": "code",
      "metadata": {
        "id": "2IivN3pyZ25d"
      },
      "source": [
        "if 'google.colab' in str(get_ipython()):\n",
        "  from IPython.display import clear_output\n",
        "  from google_drive_downloader import GoogleDriveDownloader as gdd\n",
        "  gdd.download_file_from_google_drive(file_id='17iJMgLywXL8Bt9k1CGqQ6idTcosJpQRO',\n",
        "  dest_path='./TP2.zip', unzip=True)\n",
        "\n",
        "else:\n",
        "  print('Please use colab')"
      ],
      "execution_count": null,
      "outputs": []
    },
    {
      "cell_type": "code",
      "metadata": {
        "id": "d8epf7UIb6C6"
      },
      "source": [
        "import numpy as np"
      ],
      "execution_count": null,
      "outputs": []
    },
    {
      "cell_type": "markdown",
      "metadata": {
        "id": "kjWw93apbxd7"
      },
      "source": [
        "# Q1"
      ]
    },
    {
      "cell_type": "code",
      "metadata": {
        "colab": {
          "base_uri": "https://localhost:8080/"
        },
        "id": "JrD_IjgCec1b",
        "outputId": "c7aa9a76-4c3e-4021-fa4f-b92eb3602123"
      },
      "source": [
        "pi = np.zeros(2)\n",
        "pi[0] = 1\n",
        "pi"
      ],
      "execution_count": null,
      "outputs": [
        {
          "output_type": "execute_result",
          "data": {
            "text/plain": [
              "array([1., 0.])"
            ]
          },
          "metadata": {
            "tags": []
          },
          "execution_count": 24
        }
      ]
    },
    {
      "cell_type": "markdown",
      "metadata": {
        "id": "YwV3Slkre2KG"
      },
      "source": [
        "# Q2"
      ]
    },
    {
      "cell_type": "markdown",
      "metadata": {
        "id": "styz9ORqe-HD"
      },
      "source": [
        "![image.png](data:image/png;base64,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)"
      ]
    },
    {
      "cell_type": "markdown",
      "metadata": {
        "id": "ML_5wJPCe3sz"
      },
      "source": [
        "What is the probability to move from state 1 to state 2 ? What is the probability to remain in state 2 ? What is the lower/higher probability ?"
      ]
    },
    {
      "cell_type": "markdown",
      "metadata": {
        "id": "scUH_w7FfAQb"
      },
      "source": [
        "- The probability to move from state 1 to state 2 is 0.000781921964187974\n",
        "\n",
        "- The probability to remain in state 2 is 1\n",
        "\n",
        "- The lower/higher probability is 0/1"
      ]
    },
    {
      "cell_type": "markdown",
      "metadata": {
        "id": "vlMko279fYbU"
      },
      "source": [
        "# Q3"
      ]
    },
    {
      "cell_type": "markdown",
      "metadata": {
        "id": "rvX0OQNHgKQU"
      },
      "source": [
        "The size of B is N*2"
      ]
    },
    {
      "cell_type": "markdown",
      "metadata": {
        "id": "y9jX6vuDgqWN"
      },
      "source": [
        "# Material"
      ]
    },
    {
      "cell_type": "code",
      "metadata": {
        "id": "P6XkgdLaokrn"
      },
      "source": [
        "A  = np.array([[0.999218078035812, 0.000781921964187974], [0, 1]])"
      ],
      "execution_count": null,
      "outputs": []
    },
    {
      "cell_type": "code",
      "metadata": {
        "id": "3wyg_1Rqmkmw"
      },
      "source": [
        "B = np.loadtxt('PerlScriptAndModel/P.text')"
      ],
      "execution_count": null,
      "outputs": []
    },
    {
      "cell_type": "code",
      "metadata": {
        "id": "ReqOTNqwg8Z8"
      },
      "source": [
        "file_path = 'dat/'\n",
        "data = []\n",
        "\n",
        "f = open(\"dat/mail.lst\")\n",
        "lines = f.readlines()\n",
        "for line in lines:\n",
        "    try:\n",
        "      data.append(np.loadtxt(file_path+line.strip(),dtype=int))\n",
        "    except:\n",
        "      print('error in : '+line.strip())\n",
        "f.close()"
      ],
      "execution_count": null,
      "outputs": []
    },
    {
      "cell_type": "code",
      "metadata": {
        "colab": {
          "base_uri": "https://localhost:8080/"
        },
        "id": "Ar6lU9Vwkuem",
        "outputId": "ca6a566f-67ff-48e3-ef05-a86b19ec9cac"
      },
      "source": [
        "for i,file in enumerate(data):\n",
        "  print(i+1, file.shape)"
      ],
      "execution_count": null,
      "outputs": [
        {
          "output_type": "stream",
          "text": [
            "1 (5216,)\n",
            "2 (3715,)\n",
            "3 (3475,)\n",
            "4 (3993,)\n",
            "5 (3328,)\n",
            "6 (6576,)\n",
            "7 (6808,)\n",
            "8 (2627,)\n",
            "9 (3425,)\n",
            "10 (3077,)\n",
            "11 (2620,)\n",
            "12 (3376,)\n",
            "13 (2434,)\n",
            "14 (2664,)\n",
            "15 (3643,)\n",
            "16 (3750,)\n",
            "17 (3701,)\n",
            "18 (3238,)\n",
            "19 (4467,)\n",
            "20 (3148,)\n",
            "21 (2541,)\n",
            "22 (2890,)\n",
            "23 (3934,)\n",
            "24 (5160,)\n",
            "25 (3424,)\n",
            "26 (3386,)\n",
            "27 (3211,)\n",
            "28 (3848,)\n",
            "29 (3558,)\n",
            "30 (8625,)\n"
          ],
          "name": "stdout"
        }
      ]
    },
    {
      "cell_type": "code",
      "metadata": {
        "id": "W2mHabKDm0VO"
      },
      "source": [
        "def viterbi(X,Pi0,A,B):\n",
        "    \"\"\"\n",
        "        Viterbi Algorithm Implementation\n",
        "\n",
        "        Keyword arguments:\n",
        "            - obs: sequence of observation\n",
        "            - states:list of states\n",
        "            - start_prob:vector of the initial probabilities\n",
        "            - trans: transition matrix\n",
        "            - emission_prob: emission probability matrix\n",
        "        Returns:\n",
        "            - seq: sequence of state\n",
        "    \"\"\"\n",
        "\n",
        "    #pour eviter d avoir des valeurs nulles dans le log\n",
        "    realmin = np.finfo(np.double).tiny\n",
        "    A = np.log(A+realmin)\n",
        "    Pi0 = np.log(Pi0+realmin)\n",
        "    B = np.log(B+realmin)\n",
        "    taille = np.shape(X) #X.shape[0]\n",
        "    T = taille[0] #nombre d observations\n",
        "    N = Pi0.shape[0]#nombre des etats du modele\n",
        "    print(T,N)\n",
        "    #Initialisation\n",
        "    logl = np.zeros((T,N))\n",
        "    bcktr = np.zeros((T-1,N))\n",
        "    \n",
        "    logl[0,:]=Pi0+B[X[0],:]\n",
        "    pathes = np.zeros((T,N),dtype=int)\n",
        "    for t in range(1,(T)):\n",
        "        \n",
        "        logl[t,:] = np.max(A + logl[t-1,:].reshape(2,1),axis = 0)+B[X[t],:]\n",
        "\n",
        "        pathes[t,:] = np.argmax(A + logl[t-1,:].reshape(2,1),axis = 0)\n",
        "    \n",
        "    ind = np.argmax(logl[-1,:])\n",
        "\n",
        "    path = np.zeros(T,dtype=int)\n",
        "    path[T-1] = ind\n",
        "    for t in range((T-2),-1,-1):\n",
        "      path[t] = pathes[t+1, path[t+1]]\n",
        "\n",
        "    return logl, path\n"
      ],
      "execution_count": null,
      "outputs": []
    },
    {
      "cell_type": "code",
      "metadata": {
        "colab": {
          "base_uri": "https://localhost:8080/"
        },
        "id": "wn6eThhfm0YP",
        "outputId": "3bee065b-44b9-45da-b537-26deb79fbdc9"
      },
      "source": [
        "log1, path = viterbi(data[4], pi, A, B)"
      ],
      "execution_count": null,
      "outputs": [
        {
          "output_type": "stream",
          "text": [
            "3328 2\n"
          ],
          "name": "stdout"
        }
      ]
    },
    {
      "cell_type": "code",
      "metadata": {
        "colab": {
          "base_uri": "https://localhost:8080/"
        },
        "id": "kCJ0onHN6kXs",
        "outputId": "b4347d25-803a-4a5e-ff87-89aaf6a6f3f0"
      },
      "source": [
        "print(path+1)"
      ],
      "execution_count": null,
      "outputs": [
        {
          "output_type": "stream",
          "text": [
            "[1 1 1 ... 2 2 2]\n"
          ],
          "name": "stdout"
        }
      ]
    },
    {
      "cell_type": "markdown",
      "metadata": {
        "id": "ICPr5cupMsGR"
      },
      "source": [
        "# Q4"
      ]
    },
    {
      "cell_type": "code",
      "metadata": {
        "colab": {
          "base_uri": "https://localhost:8080/"
        },
        "id": "PnfOFb2oEThW",
        "outputId": "e52597f5-df09-4c82-8d6d-eb00e9e2ad03"
      },
      "source": [
        "for i in range(10,30):\n",
        "  logl, path = viterbi(data[i], pi, A, B)\n",
        "  f = open(file_path+'path'+str(i+1)+'.txt','w')\n",
        "  for p in path:\n",
        "    f.write(str(p+1))"
      ],
      "execution_count": null,
      "outputs": [
        {
          "output_type": "stream",
          "text": [
            "2620 2\n",
            "3376 2\n",
            "2434 2\n",
            "2664 2\n",
            "3643 2\n",
            "3750 2\n",
            "3701 2\n",
            "3238 2\n",
            "4467 2\n",
            "3148 2\n",
            "2541 2\n",
            "2890 2\n",
            "3934 2\n",
            "5160 2\n",
            "3424 2\n",
            "3386 2\n",
            "3211 2\n",
            "3848 2\n",
            "3558 2\n",
            "8625 2\n"
          ],
          "name": "stdout"
        }
      ]
    },
    {
      "cell_type": "code",
      "metadata": {
        "colab": {
          "base_uri": "https://localhost:8080/"
        },
        "id": "2Y16bJCJDzWs",
        "outputId": "450bbcc6-3d4a-446b-c90a-fc12372f7490"
      },
      "source": [
        "!cp PerlScriptAndModel/codeur.pl ./codeur.pl\n",
        "!perl PerlScriptAndModel/segment.pl dat/mail12.txt dat/path12.txt"
      ],
      "execution_count": null,
      "outputs": [
        {
          "output_type": "stream",
          "text": [
            "11111111111111111111111111111111111111111111111111111111111111111111111111111111111111111111111111111111111111111111111111111111111111111111111111111111111111111111111111111111111111111111111111111111111111111111111111111111111111111111111111111111111111111111111111111111111111111111111111111111111111111111111111111111111111111111111111111111111111111111111111111111111111111111111111111111111111111111111111111111111111111111111111111111111111111111111111111111111111111111111111111111111111111111111111111111111111111111111111111111111111111111111111111111111111111111111111111111111111111111111111111111111111111111111111111111111111111111111111111111111111111111111111111111111111111111111111111111111111111111111111111111111111111111111111111111111111111111111111111111111111111111111111111111111111111111111111111111111111111111111111111111111111111111111111111111111111111111111111111111111111111111111111111111111111111111111111111111111111111111111111111111111111111111111111111111111111111111111111111111111111111111111111111111111111111111111111111111111111111111111111111111111111111111111111111111111111111111111111111111111111111111111111111111111111111111111111111111111111111111111111111111111111111111111111111111111111111111111111111111111111111111111111111111111111111111111111111111111111111111111111111111111111111111111111111111111111111111111111111111111111111111111111111111111111111111111111111111111111111111111111111111111111111111111111111111111111111111111111111111111111111111111111111111111111111111111111111111111111111111111111111111111111111111111111111111111111111111111111111111111111111111111111111111111111111111111111111111111111111111111111111111111111111111111111111111111111111111111111111111111111111111111111111111111111111111111111111111111111111111111111111111111111111111111111111111111111111111111111111111111111111111111111111111111111111111111111111111111111111111111111111111111111111111111111111111111111111111111111111111111111111111111111111111111111111111111111111111111111111111111111111111111111111111111111111111111111111111111111111111111111111111111111111111111111111111111111111111111111111111111111111111111111111111111111111111111111111111111111111111111111111111111111111111111111111111111111111111111111111111111111111111111111111111111111111111111111111111111111111111111111111111111111111111111111111111111111111111111111111111111111111111111111111111111111111111111111111111122222222222222222222222222222222222222222222222222222222222222222222222222222222222222222222222222222222222222222222222222222222222222222222222222222222222222222222222222222222222222222222222222222222222222222222222222222222222222222222222222222222222222222222222222222222222222222222222222222222222222222222222222222222222222222222222222222222222222222222222222222222222222222222222222222222222222222222222222222222222222222222222222222222222222222222222222222222222222222222222222222222222222222222222222222222222222222222222222222222222222222222222222222222222222222222222222222222222222222222222222222222222222222222222222222222222222222222222222222222222222222222222222222222222222222222222222222222222222222222222222222222222222222222222222222222222222222222222222222222222222222222222222222222222222222222222222222222222222222222222222222222222222222222222222222222222222222222222222222222222222222222222222222222222222222221111111111111111111111111111111111111111111111111111111111111111111111111111111111111111111111111111111111111111111111111111111111111111111111111111111111111111111111111111111111111111111111111111111111111111111111111111111111111111111111111111111111111111111111111111111111111111111111111111111111111111111111111111111111111111111111111111111111111111111111111111111111111111111111111111111111111111111111111111111111111111111111111111111111111111111111111111111111111111111111111111111111111111111111111111111111111111111111111111111111111111111111111111111111111111111111111111111111111111111111111111111111111111111111111111111111111111111111111111111111111111111111111111111111111111111111111111111111111111111111111111111111111111111111111111111111111111111111111111111111111111111111111111111111111111111111111111111111111111111111111111111111111111111111111111111111111111111111111111111111111111111111111111111111111111111111111111111111111111111111111111111111111111111111111111111111111111111111111111111111111111111111111111111111111111111111111111111111111111111111111111111111111111111111111111111111111111111111111111111111111111111111111111111111111111111111111111111111111111111111111111111111111111111111111111111111111111111111111111111111111111111111111111111111111111111111111111111111111111111111111111111111111111111111111111111111111111111111111111111111111111111111111111111111111111111111111111111111111111111111111111111111111111111111111111111111111111111111111111111111111111111111111111111111111111111111111111111111111111111111111111111111111111111111111111111111111111111111111111111111111111111111111111111111111111111111111111111111111111111111111111111111111111111111111111111111111111111111111111111111111111111111111111111111111111111111111111111111111111111111111111111111111111111111111111111111111111111111111111111111111111111111111111111111111111111111111111111111111111111111111111111111111111111111111111111111111111111111111111111111111111111111111111111111111111111111111111111111111111111111111111111111111111111111111111111111111111111111111111111111111111111111111111111111111111111111111111111111111111111111111111111111111111111111111111111111111111111111111111111111111111111111111111111111111111111111111111111111111111111111111111111111111111111111111111111111111111111111111111111111111111111111111111111111111111111111111111111111111111111111111111111111111111111111111111111111111111111112222222222222222222222222222222222222222222222222222222222222222222222222222222222222222222222222222222222222222222222222222222222222222222222222222222222222222222222222222222222222222222222222222222222222222222222222222222222222222222222222222222222222222222222222222222222222222222222222222222222222222222222222222222222222222222222222222222222222222222222222222222222222222222222222222222222222222222222222222222222222222222222222222222222222222222222222222222222222222222222222222222222222222222222222222222222222222222222222222222222222222222222222222222222222222222222222222222222222222222222222222222222222222222222222222222222222222222222222222222222222222222222222222222222222222222222222222222222222222222222222222222222222222222222222222222222222222222222222222222222222222222222222222222222222222222222222222222222222222222222222222222222222222222222222222222222222222222222222222222222222222222222222222222222222222222\n",
            "Mismatch between input (3992) and segmentation (3375) at PerlScriptAndModel/segment.pl line 32.\n"
          ],
          "name": "stdout"
        }
      ]
    },
    {
      "cell_type": "markdown",
      "metadata": {
        "id": "iQCN0lsVMjaY"
      },
      "source": [
        "# Q5"
      ]
    },
    {
      "cell_type": "code",
      "metadata": {
        "id": "QjezwZ1mMuhr"
      },
      "source": [
        ""
      ],
      "execution_count": null,
      "outputs": []
    },
    {
      "cell_type": "markdown",
      "metadata": {
        "id": "0vuLNxfdNC2Y"
      },
      "source": [
        "# Q6"
      ]
    },
    {
      "cell_type": "markdown",
      "metadata": {
        "id": "sybd27LRNExR"
      },
      "source": [
        ""
      ]
    },
    {
      "cell_type": "markdown",
      "metadata": {
        "id": "NtTY2M7xNFOG"
      },
      "source": [
        "# Q7"
      ]
    },
    {
      "cell_type": "code",
      "metadata": {
        "id": "5AymHGibaP6n"
      },
      "source": [
        "def cal_alpha(X, Pi0, A0, B0):\n",
        "    realmin = np.finfo(np.double).tiny\n",
        "    A = np.log(A+realmin)\n",
        "    Pi0 = np.log(Pi0+realmin)\n",
        "    B = np.log(B+realmin)\n",
        "    taille = np.shape(X) #X.shape[0]\n",
        "    T = taille[0] #nombre d observations\n",
        "    N = Pi0.shape[0]#nombre des etats du modele\n",
        "    \n",
        "    print(T,N)\n",
        "    #Initialisation\n",
        "    alpha = np.zeros((T,N))\n",
        "    \n",
        "    alpha[0,:]=Pi0+B[X[0],:]\n",
        "\n",
        "    for i in range(1,T):\n",
        "      alpha[i,:] = B[X[i-1],:] + np.sum(alpha[i-1,:]+A, axis=1)\n",
        "    \n",
        "    return alpha\n"
      ],
      "execution_count": null,
      "outputs": []
    },
    {
      "cell_type": "code",
      "metadata": {
        "id": "X__HujUfO-io"
      },
      "source": [
        "def cal_beta(X, Pi0, A0, B0):\n",
        "    realmin = np.finfo(np.double).tiny\n",
        "    A = np.log(A+realmin)\n",
        "    Pi0 = np.log(Pi0+realmin)\n",
        "    B = np.log(B+realmin)\n",
        "    taille = np.shape(X) #X.shape[0]\n",
        "    T = taille[0] #nombre d observations\n",
        "    N = Pi0.shape[0]#nombre des etats du modele\n",
        "    \n",
        "    print(T,N)\n",
        "    #Initialisation\n",
        "    beta = np.ones((T,N))\n",
        "\n",
        "    for i in range(T-2, -1, -1):\n",
        "      beta[i,:] = np.sum(A + B[X[i+1],:] + beta[i+1,:],axis = 1)\n",
        "    \n",
        "    return beta"
      ],
      "execution_count": null,
      "outputs": []
    },
    {
      "cell_type": "code",
      "metadata": {
        "id": "9Qa-wKk-QajI"
      },
      "source": [
        "def cal_gamma(alpha, beta):\n",
        "  return alpha + beta / np.sum(alpha + beta, axis = 1)"
      ],
      "execution_count": null,
      "outputs": []
    },
    {
      "cell_type": "code",
      "metadata": {
        "id": "k2aBVGW-NHCf"
      },
      "source": [
        "# to be continued\n",
        "def BaumWelch(X,Pi0,A0,B0):\n",
        "    \"\"\"\n",
        "        Baum Welch Algorithm Implementation\n",
        "\n",
        "        Keyword arguments:\n",
        "            - X: sequence of observation\n",
        "            - Pi0:vector of the initial probabilities\n",
        "            - A0: initial transition matrix\n",
        "            - B0: initial emission probability matrix\n",
        "        Returns:\n",
        "            - seq: sequence of state\n",
        "            - A\n",
        "            - B\n",
        "    \"\"\"\n",
        "\n",
        "    #pour eviter d avoir des valeurs nulles dans le log\n",
        "    realmin = np.finfo(np.double).tiny\n",
        "    A = np.log(A+realmin)\n",
        "    Pi0 = np.log(Pi0+realmin)\n",
        "    B = np.log(B+realmin)\n",
        "    taille = np.shape(X) #X.shape[0]\n",
        "    T = taille[0] #nombre d observations\n",
        "    N = Pi0.shape[0]#nombre des etats du modele\n",
        "    print(T,N)\n",
        "    #Initialisation\n",
        "    logl = np.zeros((T,N))\n",
        "    bcktr = np.zeros((T-1,N))\n",
        "    \n",
        "    logl[0,:]=Pi0+B[X[0],:]\n",
        "    pathes = np.zeros((T,N),dtype=int)\n",
        "    for t in range(1,(T)):\n",
        "        \n",
        "        logl[t,:] = np.max(A + logl[t-1,:].reshape(2,1),axis = 0)+B[X[t],:]\n",
        "\n",
        "        pathes[t,:] = np.argmax(A + logl[t-1,:].reshape(2,1),axis = 0)\n",
        "    \n",
        "    ind = np.argmax(logl[-1,:])\n",
        "\n",
        "    path = np.zeros(T,dtype=int)\n",
        "    path[T-1] = ind\n",
        "    for t in range((T-2),-1,-1):\n",
        "      path[t] = pathes[t+1, path[t+1]]\n",
        "\n",
        "    return logl, path"
      ],
      "execution_count": null,
      "outputs": []
    },
    {
      "cell_type": "code",
      "metadata": {
        "colab": {
          "base_uri": "https://localhost:8080/"
        },
        "id": "uIJQob3m-gvM",
        "outputId": "e9ba443f-bf3c-445d-e960-00a6167a255d"
      },
      "source": [
        "B[0,:].shape"
      ],
      "execution_count": null,
      "outputs": [
        {
          "output_type": "execute_result",
          "data": {
            "text/plain": [
              "(2,)"
            ]
          },
          "metadata": {
            "tags": []
          },
          "execution_count": 183
        }
      ]
    },
    {
      "cell_type": "code",
      "metadata": {
        "colab": {
          "base_uri": "https://localhost:8080/"
        },
        "id": "ahSZ5NK9bDHt",
        "outputId": "be3c807a-e2dd-4cb4-c489-f27c2997eea8"
      },
      "source": [
        "A  = np.array([[0.999218078035812, 0.000781921964187974], [0, 1]])  \n",
        "print(A)  "
      ],
      "execution_count": null,
      "outputs": [
        {
          "output_type": "stream",
          "text": [
            "[[9.99218078e-01 7.81921964e-04]\n",
            " [0.00000000e+00 1.00000000e+00]]\n"
          ],
          "name": "stdout"
        }
      ]
    },
    {
      "cell_type": "code",
      "metadata": {
        "colab": {
          "base_uri": "https://localhost:8080/"
        },
        "id": "qsAJR39pdHGT",
        "outputId": "2dc74e26-0de9-435c-98a1-acdf336f2474"
      },
      "source": [
        "temp = np.ones((1,2))\n",
        "pi = temp @ np.linalg.inv(A)\n",
        "pi = pi/np.sqrt(np.sum(pi**2))\n",
        "print(pi)"
      ],
      "execution_count": null,
      "outputs": [
        {
          "output_type": "stream",
          "text": [
            "[[0.7076599  0.70655323]]\n"
          ],
          "name": "stdout"
        }
      ]
    },
    {
      "cell_type": "code",
      "metadata": {
        "id": "f-Ns3swXddwc"
      },
      "source": [
        ""
      ],
      "execution_count": null,
      "outputs": []
    }
  ]
}